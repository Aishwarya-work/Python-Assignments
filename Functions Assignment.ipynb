{
 "cells": [
  {
   "cell_type": "code",
   "execution_count": 1,
   "id": "4b0f5e54-03b5-42c4-9f1d-8f7cafe81f43",
   "metadata": {},
   "outputs": [],
   "source": [
    "# Create a class and function, and list out the items in the list\n",
    "class SubfieldsInAI():\n",
    "    def Subfields():\n",
    "        print(\"Sub-fields in AI are:\")\n",
    "        print(\"Machine Learning\")\n",
    "        print(\"Neural Networks\")\n",
    "        print(\"Vision\")\n",
    "        print(\"Robotics\")\n",
    "        print(\"Speech Processing\")\n",
    "        print(\"Natural Language Processing\")"
   ]
  },
  {
   "cell_type": "code",
   "execution_count": 3,
   "id": "17135077-1425-4a30-b3b7-dab88233556a",
   "metadata": {},
   "outputs": [
    {
     "name": "stdout",
     "output_type": "stream",
     "text": [
      "Sub-fields in AI are:\n",
      "Machine Learning\n",
      "Neural Networks\n",
      "Vision\n",
      "Robotics\n",
      "Speech Processing\n",
      "Natural Language Processing\n"
     ]
    }
   ],
   "source": [
    "SubfieldsInAI.Subfields()"
   ]
  },
  {
   "cell_type": "code",
   "execution_count": 5,
   "id": "1d579afb-0078-4241-8725-77dbac199dd9",
   "metadata": {},
   "outputs": [],
   "source": [
    "# Create a function that checks whether the given number is Odd or Even\n",
    "class OddEven():\n",
    "    def OddEven():\n",
    "        num = int(input(\"Enter a number:\"))\n",
    "        if((num % 2) == 0):\n",
    "            print(num,\"is Even number\")\n",
    "        else:\n",
    "            print(num,\"is Odd number\")       "
   ]
  },
  {
   "cell_type": "code",
   "execution_count": 7,
   "id": "770420ed-f7ac-4b82-b958-d0072dab0e80",
   "metadata": {},
   "outputs": [
    {
     "name": "stdin",
     "output_type": "stream",
     "text": [
      "Enter a number: 24\n"
     ]
    },
    {
     "name": "stdout",
     "output_type": "stream",
     "text": [
      "24 is Even number\n"
     ]
    }
   ],
   "source": [
    "OddEven.OddEven()"
   ]
  },
  {
   "cell_type": "code",
   "execution_count": 15,
   "id": "21a0ebcd-93b3-43fc-a995-b2dc02f4627b",
   "metadata": {},
   "outputs": [],
   "source": [
    "# Create a function that tells eligibility of marriage for male and female according to their age limit like 21 for male and 18 for female\n",
    "class EligiblityForMarriage:\n",
    "    def Eligible():\n",
    "        gender = input(\"Enter your Gender:\")\n",
    "        age = int(input(\"Enter your Age:\"))\n",
    "        if(gender == 'Male'):\n",
    "            if(age >=21 ):\n",
    "                print(\"ELIGIBLE\")\n",
    "            else:\n",
    "                print(\"NOT ELIGIBLE\")\n",
    "        elif(gender == 'Female'):\n",
    "            if(age >=18 ):\n",
    "                print(\"ELIGIBLE\")\n",
    "            else:\n",
    "                print(\"NOT ELIGIBLE\")"
   ]
  },
  {
   "cell_type": "code",
   "execution_count": 19,
   "id": "8ebe78c0-d5d3-4575-a8a8-59811a62ffa0",
   "metadata": {},
   "outputs": [
    {
     "name": "stdin",
     "output_type": "stream",
     "text": [
      "Enter your Gender: Female\n",
      "Enter your Age: 25\n"
     ]
    },
    {
     "name": "stdout",
     "output_type": "stream",
     "text": [
      "ELIGIBLE\n"
     ]
    }
   ],
   "source": [
    " EligiblityForMarriage.Eligible()"
   ]
  },
  {
   "cell_type": "code",
   "execution_count": 21,
   "id": "ccbd3b8f-7210-4e62-bf29-9cbd66048510",
   "metadata": {},
   "outputs": [],
   "source": [
    "# calculate the percentage of your 10th mark\n",
    "class FindPercent:\n",
    "    def percentage():\n",
    "        Subject1= int(input(\"Enter the mark of Subject1\"))\n",
    "        Subject2= int(input(\"Enter the mark of Subject1\"))\n",
    "        Subject3= int(input(\"Enter the mark of Subject1\"))\n",
    "        Subject4= int(input(\"Enter the mark of Subject1\"))\n",
    "        Subject5= int(input(\"Enter the mark of Subject1\"))\n",
    "        Total = Subject1+Subject2+Subject3+Subject4+Subject5\n",
    "        Percentage = (Total/500)*100\n",
    "        print(\"Subject1=\",Subject1)\n",
    "        print(\"Subject2=\",Subject2)\n",
    "        print(\"Subject3=\",Subject3)\n",
    "        print(\"Subject4=\",Subject4)\n",
    "        print(\"Subject5=\",Subject5)\n",
    "        print(\"Total : \",Total)\n",
    "        print(\"Percentage : \",Percentage)       "
   ]
  },
  {
   "cell_type": "code",
   "execution_count": 23,
   "id": "7d708981-54b1-4f83-97b1-81e9a2eaa579",
   "metadata": {},
   "outputs": [
    {
     "name": "stdin",
     "output_type": "stream",
     "text": [
      "Enter the mark of Subject1 96\n",
      "Enter the mark of Subject1 98\n",
      "Enter the mark of Subject1 92\n",
      "Enter the mark of Subject1 85\n",
      "Enter the mark of Subject1 98\n"
     ]
    },
    {
     "name": "stdout",
     "output_type": "stream",
     "text": [
      "Subject1= 96\n",
      "Subject2= 98\n",
      "Subject3= 92\n",
      "Subject4= 85\n",
      "Subject5= 98\n",
      "Total :  469\n",
      "Percentage :  93.8\n"
     ]
    }
   ],
   "source": [
    "FindPercent.percentage()"
   ]
  },
  {
   "cell_type": "code",
   "execution_count": 25,
   "id": "824d1c68-32cf-4a8c-9504-359ad7a41866",
   "metadata": {},
   "outputs": [],
   "source": [
    "#print area and perimeter of triangle using class and functions\n",
    "class triangle:\n",
    "    def triangle():\n",
    "        Height = int(input(\"Enter the Height:\"))\n",
    "        Breadth = int(input(\"Enter the Breadth:\"))\n",
    "        Area= (Height*Breadth)/2\n",
    "        print(\"Area formula: (Height*Breadth)/2\")\n",
    "        print(\"Area of Triangle:\",Area)\n",
    "        Height1 = int(input(\"Enter the Height1:\"))\n",
    "        Height2 = int(input(\"Enter the Height2:\"))\n",
    "        Breadth = int(input(\"Enter the Breadth:\"))\n",
    "        Perimeter = Height1+Height2+Breadth\n",
    "        print(\"Perimeter formula: Height1+Height2+Breadth\")\n",
    "        print(\"Perimeter of Triangle:\",Perimeter)"
   ]
  },
  {
   "cell_type": "code",
   "execution_count": 27,
   "id": "f95a43dc-a660-4fce-81f7-6bccdbe05aee",
   "metadata": {},
   "outputs": [
    {
     "name": "stdin",
     "output_type": "stream",
     "text": [
      "Enter the Height: 32\n",
      "Enter the Breadth: 34\n"
     ]
    },
    {
     "name": "stdout",
     "output_type": "stream",
     "text": [
      "Area formula: (Height*Breadth)/2\n",
      "Area of Triangle: 544.0\n"
     ]
    },
    {
     "name": "stdin",
     "output_type": "stream",
     "text": [
      "Enter the Height1: 2\n",
      "Enter the Height2: 4\n",
      "Enter the Breadth: 4\n"
     ]
    },
    {
     "name": "stdout",
     "output_type": "stream",
     "text": [
      "Perimeter formula: Height1+Height2+Breadth\n",
      "Perimeter of Triangle: 10\n"
     ]
    }
   ],
   "source": [
    "triangle.triangle()"
   ]
  },
  {
   "cell_type": "code",
   "execution_count": null,
   "id": "4eb42db8-c6b9-48df-9497-7957b6d2f415",
   "metadata": {},
   "outputs": [],
   "source": []
  }
 ],
 "metadata": {
  "kernelspec": {
   "display_name": "Python [conda env:base] *",
   "language": "python",
   "name": "conda-base-py"
  },
  "language_info": {
   "codemirror_mode": {
    "name": "ipython",
    "version": 3
   },
   "file_extension": ".py",
   "mimetype": "text/x-python",
   "name": "python",
   "nbconvert_exporter": "python",
   "pygments_lexer": "ipython3",
   "version": "3.12.7"
  }
 },
 "nbformat": 4,
 "nbformat_minor": 5
}
