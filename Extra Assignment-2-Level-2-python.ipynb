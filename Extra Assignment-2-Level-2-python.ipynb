{
 "cells": [
  {
   "cell_type": "code",
   "execution_count": 3,
   "id": "c54bbdca-96ac-4763-ae98-39ecaf120835",
   "metadata": {},
   "outputs": [
    {
     "name": "stdout",
     "output_type": "stream",
     "text": [
      "0\n",
      "1\n",
      "2\n",
      "3\n",
      "4\n",
      "5\n",
      "6\n",
      "7\n",
      "8\n",
      "9\n",
      "10\n",
      "11\n",
      "12\n",
      "13\n",
      "14\n",
      "15\n",
      "16\n",
      "17\n",
      "18\n",
      "19\n"
     ]
    }
   ],
   "source": [
    "# print 0 to 20 by using range\n",
    "for i in range(0,20):\n",
    "    print(i)"
   ]
  },
  {
   "cell_type": "code",
   "execution_count": 15,
   "id": "ceab5d9c-95da-4387-8a38-1c756431c6a6",
   "metadata": {},
   "outputs": [
    {
     "name": "stdout",
     "output_type": "stream",
     "text": [
      "10 11 12 13 14 15 16 17 18 19 "
     ]
    }
   ],
   "source": [
    "# print range 10 to 20\n",
    "for i in range(10,20):\n",
    "    print(i,end = \" \")"
   ]
  },
  {
   "cell_type": "code",
   "execution_count": 17,
   "id": "b1098f69-d885-44f2-8f31-cffedc99f18c",
   "metadata": {},
   "outputs": [
    {
     "name": "stdout",
     "output_type": "stream",
     "text": [
      "Number of item in the List2: 7\n"
     ]
    }
   ],
   "source": [
    "# Print number of items in the list by using 'len'\n",
    "List2 = [10, 20, 14, 55, 43, 87, 76]\n",
    "print(\"Number of item in the List2:\",len(List2))\n"
   ]
  },
  {
   "cell_type": "code",
   "execution_count": 21,
   "id": "998888f3-4ae1-4318-a15b-ce6cee1b2eb2",
   "metadata": {},
   "outputs": [
    {
     "name": "stdout",
     "output_type": "stream",
     "text": [
      "Artificial Intelligence\n",
      "A\n",
      "r\n",
      "t\n",
      "i\n",
      "f\n",
      "i\n",
      "c\n",
      "i\n",
      "a\n",
      "l\n",
      " \n",
      "I\n",
      "n\n",
      "t\n",
      "e\n",
      "l\n",
      "l\n",
      "i\n",
      "g\n",
      "e\n",
      "n\n",
      "c\n",
      "e\n"
     ]
    }
   ],
   "source": [
    "str = \"Artificial Intelligence\"\n",
    "print(str)\n",
    "for i in str:\n",
    "    print(i)"
   ]
  },
  {
   "cell_type": "code",
   "execution_count": 23,
   "id": "5a591ad6-abfb-449f-b43b-7b71eca8a20b",
   "metadata": {},
   "outputs": [
    {
     "name": "stdin",
     "output_type": "stream",
     "text": [
      "Enter your Name Aishwarya\n",
      "Enter your Age 24\n",
      "Enter your Profession Software Engineer\n"
     ]
    },
    {
     "name": "stdout",
     "output_type": "stream",
     "text": [
      "-Your Name- Aishwarya\n",
      "-Your age- 24\n",
      "-Your Profession- Software Engineer\n"
     ]
    }
   ],
   "source": [
    "name = input(\"Enter your Name\")\n",
    "age = input(\"Enter your Age\")\n",
    "profession = input(\"Enter your Profession\")\n",
    "print(\"-Your Name-\", name)\n",
    "print(\"-Your age-\", age)\n",
    "print(\"-Your Profession-\",profession)"
   ]
  },
  {
   "cell_type": "code",
   "execution_count": 25,
   "id": "66b9d861-6a18-450d-b69b-02b3d2ba6e1d",
   "metadata": {},
   "outputs": [
    {
     "name": "stdout",
     "output_type": "stream",
     "text": [
      "(1, 'Welcome', 2, 'Hope')\n"
     ]
    }
   ],
   "source": [
    "tup = (1, 'Welcome', 2, 'Hope')\n",
    "print(tup)"
   ]
  },
  {
   "cell_type": "code",
   "execution_count": 29,
   "id": "9725acf8-3d78-4174-8167-5d3fce2d016a",
   "metadata": {},
   "outputs": [
    {
     "name": "stdout",
     "output_type": "stream",
     "text": [
      "((0, 1, 2, 3), ('python', 'HOPE'))\n"
     ]
    }
   ],
   "source": [
    "tup1 = (0, 1, 2, 3)\n",
    "tup2 = ('python', 'HOPE')\n",
    "\n",
    "result = (tup1, tup2)\n",
    "print(result)\n"
   ]
  },
  {
   "cell_type": "code",
   "execution_count": 37,
   "id": "bdcd55eb-7b1c-4ebe-ba2e-a5565e591714",
   "metadata": {},
   "outputs": [
    {
     "name": "stdout",
     "output_type": "stream",
     "text": [
      "19  is odd. \n",
      "25  is odd. \n",
      "1  is odd. \n"
     ]
    }
   ],
   "source": [
    "# print odd numbers in the list\n",
    "\n",
    "list1 = [20,10,16,19,25,1,276,188]\n",
    "for i in list1:\n",
    "    if i%2 != 0:\n",
    "        print(i , \" is odd. \")"
   ]
  },
  {
   "cell_type": "code",
   "execution_count": 39,
   "id": "815cf168-5dd5-4386-ba86-cd4ac929f335",
   "metadata": {},
   "outputs": [
    {
     "name": "stdout",
     "output_type": "stream",
     "text": [
      "20  is even. \n",
      "10  is even. \n",
      "16  is even. \n",
      "276  is even. \n",
      "188  is even. \n"
     ]
    }
   ],
   "source": [
    "# print even numbers in the list\n",
    "\n",
    "list1 = [20,10,16,19,25,1,276,188]\n",
    "for i in list1:\n",
    "    if i%2 == 0:\n",
    "        print(i , \" is even. \")"
   ]
  },
  {
   "cell_type": "code",
   "execution_count": null,
   "id": "12f717c3-38cb-44ff-81f6-81cec23be24d",
   "metadata": {},
   "outputs": [],
   "source": []
  }
 ],
 "metadata": {
  "kernelspec": {
   "display_name": "Python [conda env:base] *",
   "language": "python",
   "name": "conda-base-py"
  },
  "language_info": {
   "codemirror_mode": {
    "name": "ipython",
    "version": 3
   },
   "file_extension": ".py",
   "mimetype": "text/x-python",
   "name": "python",
   "nbconvert_exporter": "python",
   "pygments_lexer": "ipython3",
   "version": "3.12.7"
  }
 },
 "nbformat": 4,
 "nbformat_minor": 5
}
