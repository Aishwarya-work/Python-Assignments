{
 "cells": [
  {
   "cell_type": "code",
   "execution_count": 4,
   "id": "844b721f-378a-4291-9417-d45dc720ae57",
   "metadata": {},
   "outputs": [
    {
     "name": "stdin",
     "output_type": "stream",
     "text": [
      "value: 10\n"
     ]
    },
    {
     "name": "stdout",
     "output_type": "stream",
     "text": [
      "correct\n"
     ]
    }
   ],
   "source": [
    "# print 'CORRECT' if i == 10\n",
    "i = int(input(\"value:\"))\n",
    "if i == 10:\n",
    "    print(\"correct\")"
   ]
  },
  {
   "cell_type": "code",
   "execution_count": 6,
   "id": "be0b0d75-90af-4db9-bb54-fb12130dd0ca",
   "metadata": {},
   "outputs": [
    {
     "name": "stdin",
     "output_type": "stream",
     "text": [
      "Enter the Password: HOPE@123\n"
     ]
    },
    {
     "name": "stdout",
     "output_type": "stream",
     "text": [
      "Your password is correct\n"
     ]
    }
   ],
   "source": [
    "# Check the password, using if and else\n",
    "pwd = \"HOPE@123\"\n",
    "pwd1 = input(\"Enter the Password:\")\n",
    "if(pwd1 == pwd):\n",
    "    print(\"Your password is correct\")\n",
    "else:\n",
    "    print(\"Your password is wrong\")"
   ]
  },
  {
   "cell_type": "code",
   "execution_count": 12,
   "id": "12c4b750-2463-4874-82ea-9a55c35b6c1b",
   "metadata": {},
   "outputs": [
    {
     "name": "stdin",
     "output_type": "stream",
     "text": [
      "age: 20\n"
     ]
    },
    {
     "name": "stdout",
     "output_type": "stream",
     "text": [
      "adult\n"
     ]
    }
   ],
   "source": [
    "# Catagory the people by their age like children, adult, citizen, senior citizen...\n",
    "age = int(input(\"age:\"));\n",
    "if(age<18):\n",
    "    print(\"children\");\n",
    "elif(age<35):\n",
    "    print(\"adult\");\n",
    "elif(age<59):\n",
    "    print(\"citizen\");\n",
    "else:\n",
    "    print(\"Senior citizen\")"
   ]
  },
  {
   "cell_type": "code",
   "execution_count": 14,
   "id": "df078d3a-4aca-4e4c-8dc6-a99f88fa3cbd",
   "metadata": {},
   "outputs": [
    {
     "name": "stdin",
     "output_type": "stream",
     "text": [
      "Enter any number: 1\n"
     ]
    },
    {
     "name": "stdout",
     "output_type": "stream",
     "text": [
      "positive\n"
     ]
    }
   ],
   "source": [
    "# Find whether given number is positive or negative\n",
    "number = float(input(\"Enter any number:\"))\n",
    "if(number > 0):\n",
    "    print(\"positive\")\n",
    "else:\n",
    "    print(\"negative\")"
   ]
  },
  {
   "cell_type": "code",
   "execution_count": 16,
   "id": "dc2f06fe-4589-4418-bd7b-f62cdd566afe",
   "metadata": {},
   "outputs": [
    {
     "name": "stdin",
     "output_type": "stream",
     "text": [
      "Enter a number to check: 22\n"
     ]
    },
    {
     "name": "stdout",
     "output_type": "stream",
     "text": [
      "No is not divisible by 5\n"
     ]
    }
   ],
   "source": [
    "# Check whether the given number is divisible by 5\n",
    "number = float(input(\"Enter a number to check:\"))\n",
    "if((number % 5) == 0):\n",
    "    print(\"No is divisible by 5\")\n",
    "else:\n",
    "    print(\"No is not divisible by 5\")"
   ]
  },
  {
   "cell_type": "code",
   "execution_count": null,
   "id": "84992b18-8179-421c-9cb6-7a7c4941c6ab",
   "metadata": {},
   "outputs": [],
   "source": []
  }
 ],
 "metadata": {
  "kernelspec": {
   "display_name": "Python [conda env:base] *",
   "language": "python",
   "name": "conda-base-py"
  },
  "language_info": {
   "codemirror_mode": {
    "name": "ipython",
    "version": 3
   },
   "file_extension": ".py",
   "mimetype": "text/x-python",
   "name": "python",
   "nbconvert_exporter": "python",
   "pygments_lexer": "ipython3",
   "version": "3.12.7"
  }
 },
 "nbformat": 4,
 "nbformat_minor": 5
}
