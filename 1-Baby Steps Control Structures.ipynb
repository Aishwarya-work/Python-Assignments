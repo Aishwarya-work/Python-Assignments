{
 "cells": [
  {
   "cell_type": "code",
   "execution_count": 1,
   "id": "ca1c0b2a-09e9-488e-b655-c75953f4c578",
   "metadata": {},
   "outputs": [
    {
     "name": "stdout",
     "output_type": "stream",
     "text": [
      "Welcome to Assignment-1\n"
     ]
    }
   ],
   "source": [
    "print(\"Welcome to Assignment-1\")"
   ]
  },
  {
   "cell_type": "code",
   "execution_count": 15,
   "id": "c2a02e39-c6ce-4b60-8f27-4f7b8bc7d5ec",
   "metadata": {},
   "outputs": [
    {
     "name": "stdout",
     "output_type": "stream",
     "text": [
      "Num1= 10\n",
      "Num2= 30\n",
      "Add= 40\n"
     ]
    }
   ],
   "source": [
    "Num1=10\n",
    "Num2=30\n",
    "Add = Num1+Num2\n",
    "print(\"Num1=\",Num1)\n",
    "print(\"Num2=\",Num2)\n",
    "print(\"Add=\",Add)"
   ]
  },
  {
   "cell_type": "code",
   "execution_count": 7,
   "id": "8cff7103-7bc8-4197-bd4b-4b7872a14af2",
   "metadata": {},
   "outputs": [],
   "source": [
    "#BMI INDEX:\n",
    "\n",
    "#under weight <18.5\n",
    "#Normal = 18.5 - 24.9\n",
    "#overweight = 25 - 29.9\n",
    "#obese = 30 - 34.9\n",
    "#Extremely obese >35.0"
   ]
  },
  {
   "cell_type": "code",
   "execution_count": 9,
   "id": "fe332a65-f914-4f89-a9dd-4242e19f489b",
   "metadata": {},
   "outputs": [
    {
     "name": "stdin",
     "output_type": "stream",
     "text": [
      "Enter the BMI Index: 34\n"
     ]
    }
   ],
   "source": [
    "bmi = int (input(\"Enter the BMI Index:\"))"
   ]
  },
  {
   "cell_type": "code",
   "execution_count": 13,
   "id": "9951d82b-0476-4c22-a4bf-7a160848aca7",
   "metadata": {},
   "outputs": [
    {
     "name": "stdout",
     "output_type": "stream",
     "text": [
      "very overweight\n"
     ]
    }
   ],
   "source": [
    "if(bmi<18.5):\n",
    "    print(\"underweight\")\n",
    "elif(bmi >18.5 and bmi <24.9):\n",
    "    print(\"Normal\")\n",
    "elif(bmi >25 and bmi <29.9):\n",
    "    print(\"overweight\")\n",
    "elif(bmi >30 and bmi <34.9):\n",
    "    print(\"very overweight\")\n",
    "else:\n",
    "    print(\"Extremely obese\")"
   ]
  },
  {
   "cell_type": "code",
   "execution_count": null,
   "id": "cec1ecea-ae70-4a20-bb69-33bc79d32e08",
   "metadata": {},
   "outputs": [],
   "source": []
  }
 ],
 "metadata": {
  "kernelspec": {
   "display_name": "Python [conda env:base] *",
   "language": "python",
   "name": "conda-base-py"
  },
  "language_info": {
   "codemirror_mode": {
    "name": "ipython",
    "version": 3
   },
   "file_extension": ".py",
   "mimetype": "text/x-python",
   "name": "python",
   "nbconvert_exporter": "python",
   "pygments_lexer": "ipython3",
   "version": "3.12.7"
  }
 },
 "nbformat": 4,
 "nbformat_minor": 5
}
