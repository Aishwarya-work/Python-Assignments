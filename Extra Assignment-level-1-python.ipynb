{
 "cells": [
  {
   "cell_type": "code",
   "execution_count": 2,
   "id": "635d882a-01ff-423a-b0b7-36175dc76ae0",
   "metadata": {},
   "outputs": [],
   "source": [
    "#print Statement\n"
   ]
  },
  {
   "cell_type": "code",
   "execution_count": 4,
   "id": "0dc3074f-6222-4fb3-b520-0e1cdf95ba6d",
   "metadata": {},
   "outputs": [
    {
     "name": "stdout",
     "output_type": "stream",
     "text": [
      "HOPE AI\n"
     ]
    }
   ],
   "source": [
    "print(\"HOPE AI\")"
   ]
  },
  {
   "cell_type": "code",
   "execution_count": 6,
   "id": "3216018a-bb81-43d9-9e04-5af8184615b9",
   "metadata": {},
   "outputs": [
    {
     "name": "stdin",
     "output_type": "stream",
     "text": [
      "Enter your institute name? : HopeAI\n"
     ]
    },
    {
     "data": {
      "text/plain": [
       "'HopeAI'"
      ]
     },
     "execution_count": 6,
     "metadata": {},
     "output_type": "execute_result"
    }
   ],
   "source": [
    "#BUY INPUT\n",
    "input(\"Enter your institute name? :\")"
   ]
  },
  {
   "cell_type": "code",
   "execution_count": 8,
   "id": "b61755de-77ae-40f3-adad-a92f99614f95",
   "metadata": {},
   "outputs": [
    {
     "name": "stdin",
     "output_type": "stream",
     "text": [
      "Enter your name:  Raj\n",
      "Enter your age:  15\n",
      "Enter your school name: Guru school\n",
      "Enter your drgree:  B.E CSE\n"
     ]
    },
    {
     "data": {
      "text/plain": [
       "'B.E CSE'"
      ]
     },
     "execution_count": 8,
     "metadata": {},
     "output_type": "execute_result"
    }
   ],
   "source": [
    "#Buy Inputs\n",
    "input(\"Enter your name: \")\n",
    "input(\"Enter your age: \")\n",
    "input(\"Enter your school name:\")\n",
    "input(\"Enter your degree: \")"
   ]
  },
  {
   "cell_type": "code",
   "execution_count": 10,
   "id": "7802254b-606e-4bef-a20d-51b7f81fbba3",
   "metadata": {},
   "outputs": [
    {
     "name": "stdin",
     "output_type": "stream",
     "text": [
      "Enter value of a:  43\n",
      "Enter value of b:  34\n"
     ]
    },
    {
     "name": "stdout",
     "output_type": "stream",
     "text": [
      "a=  43\n",
      "b=  34\n",
      "add=  77\n"
     ]
    }
   ],
   "source": [
    "#Addition\n",
    "a= int(input(\"Enter value of a: \"))\n",
    "b= int(input(\"Enter value of b: \"))\n",
    "add = a+b\n",
    "print(\"a= \",a)\n",
    "print(\"b= \",b)\n",
    "print(\"add= \",add)\n"
   ]
  },
  {
   "cell_type": "code",
   "execution_count": 12,
   "id": "42c8d69f-49e7-40ad-a621-41ecc3df7d65",
   "metadata": {},
   "outputs": [
    {
     "name": "stdin",
     "output_type": "stream",
     "text": [
      "Enter value of a:  43\n",
      "Enter value of b:  34\n"
     ]
    },
    {
     "name": "stdout",
     "output_type": "stream",
     "text": [
      "a=  43\n",
      "b=  34\n",
      "sub=  9\n"
     ]
    }
   ],
   "source": [
    "#subtraction\n",
    "a= int(input(\"Enter value of a: \"))\n",
    "b= int(input(\"Enter value of b: \"))\n",
    "sub = a-b\n",
    "print(\"a= \",a)\n",
    "print(\"b= \",b)\n",
    "print(\"sub= \",sub)"
   ]
  },
  {
   "cell_type": "code",
   "execution_count": 16,
   "id": "9dd6c472-5a34-4759-8c23-6e4dd82a8857",
   "metadata": {},
   "outputs": [
    {
     "name": "stdin",
     "output_type": "stream",
     "text": [
      "Enter value of a:  63\n",
      "Enter value of b:  97\n"
     ]
    },
    {
     "name": "stdout",
     "output_type": "stream",
     "text": [
      "a=  63\n",
      "b=  97\n",
      "Mul=  6111\n"
     ]
    }
   ],
   "source": [
    "#Multiplication\n",
    "a= int(input(\"Enter value of a: \"))\n",
    "b= int(input(\"Enter value of b: \"))\n",
    "mul = a*b\n",
    "print(\"a= \",a)\n",
    "print(\"b= \",b)\n",
    "print(\"Mul= \",mul)"
   ]
  },
  {
   "cell_type": "code",
   "execution_count": 22,
   "id": "20722a3c-63a5-4c80-802a-3e1f865e61dc",
   "metadata": {},
   "outputs": [
    {
     "name": "stdin",
     "output_type": "stream",
     "text": [
      "Enter value of a:  76\n",
      "Enter value of b:  31\n"
     ]
    },
    {
     "name": "stdout",
     "output_type": "stream",
     "text": [
      "a=  76\n",
      "b=  31\n",
      "Float div=  2.4516129032258065\n"
     ]
    }
   ],
   "source": [
    "#Division\n",
    "a= int(input(\"Enter value of a: \"))\n",
    "b= int(input(\"Enter value of b: \"))\n",
    "div = a/b\n",
    "print(\"a= \",a)\n",
    "print(\"b= \",b)\n",
    "print(\"Float div= \",div)"
   ]
  },
  {
   "cell_type": "code",
   "execution_count": 20,
   "id": "9defce29-aac7-48a0-83d3-5c4ead6ec46e",
   "metadata": {},
   "outputs": [
    {
     "name": "stdin",
     "output_type": "stream",
     "text": [
      "Enter value of a:  76\n",
      "Enter value of b:  31\n"
     ]
    },
    {
     "name": "stdout",
     "output_type": "stream",
     "text": [
      "a=  76\n",
      "b=  31\n",
      "floor div=  2\n"
     ]
    }
   ],
   "source": [
    "#Floor Division\n",
    "a= int(input(\"Enter value of a: \"))\n",
    "b= int(input(\"Enter value of b: \"))\n",
    "fdiv = a//b\n",
    "print(\"a= \",a)\n",
    "print(\"b= \",b)\n",
    "print(\"floor div= \",fdiv)"
   ]
  },
  {
   "cell_type": "code",
   "execution_count": 24,
   "id": "91262199-9564-4efe-9293-0352e2f61461",
   "metadata": {},
   "outputs": [
    {
     "name": "stdin",
     "output_type": "stream",
     "text": [
      "Enter value of a:  76\n",
      "Enter value of b:  31\n"
     ]
    },
    {
     "name": "stdout",
     "output_type": "stream",
     "text": [
      "a=  76\n",
      "b=  31\n",
      "modulo=  14\n"
     ]
    }
   ],
   "source": [
    "#Modulo\n",
    "a= int(input(\"Enter value of a: \"))\n",
    "b= int(input(\"Enter value of b: \"))\n",
    "modulo = a%b\n",
    "print(\"a= \",a)\n",
    "print(\"b= \",b)\n",
    "print(\"modulo= \",modulo)"
   ]
  },
  {
   "cell_type": "code",
   "execution_count": 26,
   "id": "4f43d808-6293-44fa-a3a5-f4540e5bd44d",
   "metadata": {},
   "outputs": [
    {
     "name": "stdin",
     "output_type": "stream",
     "text": [
      "Enter value of a:  4\n",
      "Enter value of b:  4\n"
     ]
    },
    {
     "name": "stdout",
     "output_type": "stream",
     "text": [
      "a=  4\n",
      "b=  4\n",
      "power=  256\n"
     ]
    }
   ],
   "source": [
    "#power\n",
    "a= int(input(\"Enter value of a: \"))\n",
    "b= int(input(\"Enter value of b: \"))\n",
    "power= a**b\n",
    "print(\"a= \",a)\n",
    "print(\"b= \",b)\n",
    "print(\"power= \",power)"
   ]
  },
  {
   "cell_type": "code",
   "execution_count": null,
   "id": "f0003587-9bae-4fc7-9d77-b863daa36474",
   "metadata": {},
   "outputs": [],
   "source": []
  }
 ],
 "metadata": {
  "kernelspec": {
   "display_name": "Python [conda env:base] *",
   "language": "python",
   "name": "conda-base-py"
  },
  "language_info": {
   "codemirror_mode": {
    "name": "ipython",
    "version": 3
   },
   "file_extension": ".py",
   "mimetype": "text/x-python",
   "name": "python",
   "nbconvert_exporter": "python",
   "pygments_lexer": "ipython3",
   "version": "3.12.7"
  }
 },
 "nbformat": 4,
 "nbformat_minor": 5
}
